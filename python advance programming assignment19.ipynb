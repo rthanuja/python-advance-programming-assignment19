{
 "cells": [
  {
   "cell_type": "code",
   "execution_count": 1,
   "id": "8e0a1815",
   "metadata": {},
   "outputs": [],
   "source": [
    "'''1.Create a checker board generator, which takes as inputs n and 2 elements to generate an n x n checkerboard with those two\n",
    "elements as alternating squares.'''\n",
    "def checker_board(n,a,b):\n",
    "    if a==b:\n",
    "        return \"invalid\"\n",
    "    s=[a]\n",
    "    for i in range(1,n+1):\n",
    "        if s[i-1]==a:\n",
    "            s.append(b)\n",
    "        else:\n",
    "            s.append(a)\n",
    "    l=[s[:n]]\n",
    "    for i in range(1,n):\n",
    "        if l[i-1][0]==a:\n",
    "            l.append(s[1:1+n])\n",
    "        else:\n",
    "            l.append(s[:n])\n",
    "    return l      "
   ]
  },
  {
   "cell_type": "code",
   "execution_count": 2,
   "id": "d7041070",
   "metadata": {},
   "outputs": [
    {
     "data": {
      "text/plain": [
       "[[7, 6], [6, 7]]"
      ]
     },
     "execution_count": 2,
     "metadata": {},
     "output_type": "execute_result"
    }
   ],
   "source": [
    "checker_board(2,7,6)"
   ]
  },
  {
   "cell_type": "code",
   "execution_count": 3,
   "id": "ddd40601",
   "metadata": {},
   "outputs": [
    {
     "data": {
      "text/plain": [
       "[['A', 'B', 'A'], ['B', 'A', 'B'], ['A', 'B', 'A']]"
      ]
     },
     "execution_count": 3,
     "metadata": {},
     "output_type": "execute_result"
    }
   ],
   "source": [
    "checker_board(3,\"A\",\"B\")"
   ]
  },
  {
   "cell_type": "code",
   "execution_count": 4,
   "id": "ba1991bd",
   "metadata": {},
   "outputs": [
    {
     "data": {
      "text/plain": [
       "[['c', 'd', 'c', 'd'],\n",
       " ['d', 'c', 'd', 'c'],\n",
       " ['c', 'd', 'c', 'd'],\n",
       " ['d', 'c', 'd', 'c']]"
      ]
     },
     "execution_count": 4,
     "metadata": {},
     "output_type": "execute_result"
    }
   ],
   "source": [
    "checker_board(4,\"c\",\"d\")"
   ]
  },
  {
   "cell_type": "code",
   "execution_count": 5,
   "id": "7db0b6c2",
   "metadata": {},
   "outputs": [
    {
     "data": {
      "text/plain": [
       "'invalid'"
      ]
     },
     "execution_count": 5,
     "metadata": {},
     "output_type": "execute_result"
    }
   ],
   "source": [
    "checker_board(4,\"c\",\"c\")"
   ]
  },
  {
   "cell_type": "code",
   "execution_count": 6,
   "id": "ae364ac6",
   "metadata": {},
   "outputs": [],
   "source": [
    "'''2. A string is an almost-palindrome if, by changing only one character, you can make it a palindrome. Create a function \n",
    "that returns True if a string is an almost-palindrome and False otherwise.'''\n",
    "def almost_palindrome(s):\n",
    "    t=s[::-1]\n",
    "    n=0\n",
    "    for i in range(len(s)//2):\n",
    "        if s[i]==t[i]:\n",
    "            continue\n",
    "        else:\n",
    "            n+=1\n",
    "    if n==1:\n",
    "        return True\n",
    "    return False\n",
    "        "
   ]
  },
  {
   "cell_type": "code",
   "execution_count": 7,
   "id": "d357b1d2",
   "metadata": {},
   "outputs": [
    {
     "data": {
      "text/plain": [
       "True"
      ]
     },
     "execution_count": 7,
     "metadata": {},
     "output_type": "execute_result"
    }
   ],
   "source": [
    "almost_palindrome(\"abcdcbg\")"
   ]
  },
  {
   "cell_type": "code",
   "execution_count": 8,
   "id": "350accc5",
   "metadata": {},
   "outputs": [
    {
     "data": {
      "text/plain": [
       "True"
      ]
     },
     "execution_count": 8,
     "metadata": {},
     "output_type": "execute_result"
    }
   ],
   "source": [
    "almost_palindrome(\"abccia\")"
   ]
  },
  {
   "cell_type": "code",
   "execution_count": 9,
   "id": "e3888b35",
   "metadata": {},
   "outputs": [
    {
     "data": {
      "text/plain": [
       "False"
      ]
     },
     "execution_count": 9,
     "metadata": {},
     "output_type": "execute_result"
    }
   ],
   "source": [
    "almost_palindrome(\"abcdaaa\")"
   ]
  },
  {
   "cell_type": "code",
   "execution_count": 10,
   "id": "05b31032",
   "metadata": {},
   "outputs": [
    {
     "data": {
      "text/plain": [
       "False"
      ]
     },
     "execution_count": 10,
     "metadata": {},
     "output_type": "execute_result"
    }
   ],
   "source": [
    "almost_palindrome(\"1234312\")"
   ]
  },
  {
   "cell_type": "code",
   "execution_count": 11,
   "id": "3d442c70",
   "metadata": {},
   "outputs": [],
   "source": [
    "#3. Create a function that finds how many prime numbers there are, up to the given integer.\n",
    "def prime_numbers(n):\n",
    "    k=0\n",
    "    for i in range(2,n+1):\n",
    "        c=0\n",
    "        for j in range(2,i//2+1):\n",
    "            if i%j==0:\n",
    "                c=1\n",
    "                break\n",
    "        if c==0:\n",
    "            k+=1\n",
    "    return k"
   ]
  },
  {
   "cell_type": "code",
   "execution_count": 12,
   "id": "e79e4712",
   "metadata": {},
   "outputs": [
    {
     "data": {
      "text/plain": [
       "4"
      ]
     },
     "execution_count": 12,
     "metadata": {},
     "output_type": "execute_result"
    }
   ],
   "source": [
    "prime_numbers(10)"
   ]
  },
  {
   "cell_type": "code",
   "execution_count": 13,
   "id": "274d3cc0",
   "metadata": {},
   "outputs": [
    {
     "data": {
      "text/plain": [
       "8"
      ]
     },
     "execution_count": 13,
     "metadata": {},
     "output_type": "execute_result"
    }
   ],
   "source": [
    "prime_numbers(20)"
   ]
  },
  {
   "cell_type": "code",
   "execution_count": 14,
   "id": "bdd39883",
   "metadata": {},
   "outputs": [
    {
     "data": {
      "text/plain": [
       "10"
      ]
     },
     "execution_count": 14,
     "metadata": {},
     "output_type": "execute_result"
    }
   ],
   "source": [
    "prime_numbers(30)"
   ]
  },
  {
   "cell_type": "code",
   "execution_count": 15,
   "id": "486da7d4",
   "metadata": {},
   "outputs": [],
   "source": [
    "'''4. If today was Monday, in two days, it would be Wednesday. Create a function that takes in a list of days as input and\n",
    "the number of days to increment by. Return a list of days after n number of days has passed.'''\n",
    "def after_n_days(l,n):\n",
    "    d=[\"Sunday\",\"Monday\",\"Tuesday\",\"Wednesday\",\"Thursday\",\"Friday\",\"Saturday\"]\n",
    "    for i in range(len(l)):\n",
    "        s=d.index(l[i])\n",
    "        if s+n>len(l)-1:\n",
    "            s=s+n-len(d)\n",
    "            l[i]=d[s]\n",
    "        else:\n",
    "            l[i]=d[s+n]\n",
    "    return l\n",
    "    "
   ]
  },
  {
   "cell_type": "code",
   "execution_count": 16,
   "id": "2456674e",
   "metadata": {},
   "outputs": [
    {
     "data": {
      "text/plain": [
       "['Monday', 'Friday']"
      ]
     },
     "execution_count": 16,
     "metadata": {},
     "output_type": "execute_result"
    }
   ],
   "source": [
    "after_n_days([\"Thursday\", \"Monday\"], 4) "
   ]
  },
  {
   "cell_type": "code",
   "execution_count": 17,
   "id": "0061d98b",
   "metadata": {},
   "outputs": [
    {
     "data": {
      "text/plain": [
       "['Monday', 'Monday', 'Monday']"
      ]
     },
     "execution_count": 17,
     "metadata": {},
     "output_type": "execute_result"
    }
   ],
   "source": [
    "after_n_days([\"Sunday\", \"Sunday\", \"Sunday\"], 1)"
   ]
  },
  {
   "cell_type": "code",
   "execution_count": 18,
   "id": "57c9d3ae",
   "metadata": {},
   "outputs": [
    {
     "data": {
      "text/plain": [
       "['Tuesday', 'Wednesday', 'Saturday']"
      ]
     },
     "execution_count": 18,
     "metadata": {},
     "output_type": "execute_result"
    }
   ],
   "source": [
    "after_n_days([\"Monday\", \"Tuesday\", \"Friday\"], 1) "
   ]
  },
  {
   "cell_type": "code",
   "execution_count": 19,
   "id": "5338136c",
   "metadata": {},
   "outputs": [],
   "source": [
    "'''5. You are in the process of creating a chat application and want to add an anonymous name feature. This anonymous name\n",
    "feature will create an alias that consists of two capitalized words beginning with the same letter as the users first name.\n",
    "Create a function that determines if the list of users is mapped to a list of anonymous names correctly'''\n",
    "def is_correct_aliases(l,a):\n",
    "    c=0\n",
    "    for i in range(len(a)):\n",
    "        a[i]=a[i].split()\n",
    "        if l[i][0]==a[i][0][0]==a[i][1][0]:\n",
    "            c+=1\n",
    "    if c==len(l):\n",
    "        return True\n",
    "    return False"
   ]
  },
  {
   "cell_type": "code",
   "execution_count": 20,
   "id": "90518074",
   "metadata": {},
   "outputs": [
    {
     "data": {
      "text/plain": [
       "True"
      ]
     },
     "execution_count": 20,
     "metadata": {},
     "output_type": "execute_result"
    }
   ],
   "source": [
    "is_correct_aliases([\"Adrian M.\", \"Harriet S.\", \"Mandy T.\"],\n",
    "                   [\"Amazing Artichoke\", \"Hopeful Hedgehog\", \"Marvelous Mouse\"]) "
   ]
  },
  {
   "cell_type": "code",
   "execution_count": 21,
   "id": "0dcfdae6",
   "metadata": {},
   "outputs": [
    {
     "data": {
      "text/plain": [
       "True"
      ]
     },
     "execution_count": 21,
     "metadata": {},
     "output_type": "execute_result"
    }
   ],
   "source": [
    "is_correct_aliases([\"Rachel F.\", \"Pam G.\", \"Fred Z.\", \"Nancy K.\"], \n",
    "                   [\"Reassuring Rat\", \"Peaceful Panda\", \"Fantastic Frog\", \"Notable Nickel\"]) "
   ]
  },
  {
   "cell_type": "code",
   "execution_count": 22,
   "id": "a686b352",
   "metadata": {},
   "outputs": [
    {
     "data": {
      "text/plain": [
       "False"
      ]
     },
     "execution_count": 22,
     "metadata": {},
     "output_type": "execute_result"
    }
   ],
   "source": [
    "is_correct_aliases([\"Beth T.\"], [\"Brandishing Mimosa\"]) "
   ]
  }
 ],
 "metadata": {
  "kernelspec": {
   "display_name": "Python 3 (ipykernel)",
   "language": "python",
   "name": "python3"
  },
  "language_info": {
   "codemirror_mode": {
    "name": "ipython",
    "version": 3
   },
   "file_extension": ".py",
   "mimetype": "text/x-python",
   "name": "python",
   "nbconvert_exporter": "python",
   "pygments_lexer": "ipython3",
   "version": "3.10.9"
  }
 },
 "nbformat": 4,
 "nbformat_minor": 5
}
